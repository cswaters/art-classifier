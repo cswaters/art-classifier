{
 "cells": [
  {
   "cell_type": "code",
   "execution_count": 1,
   "metadata": {},
   "outputs": [],
   "source": [
    "from fastai2.vision.widgets import *\n",
    "from fastai2.vision.all import *"
   ]
  },
  {
   "cell_type": "markdown",
   "metadata": {},
   "source": [
    "## Classify Artistic Styles\n",
    "\n",
    "The simple model below classifies a painting as one of four artistic *movements*:\n",
    "\n",
    "- [Futurism](https://en.wikipedia.org/wiki/Futurism): A early 20th century movement, started in Italy, celebrating speed, technology, and industrialization.\n",
    "- [Cubism](https://mymodernmet.com/what-is-cubism-art/): A style characterized by fragmented subject matter deconstructed in such a way that it can be viewed from multiple angles simultaneously.\n",
    "- [Impressionism](https://en.wikipedia.org/wiki/Impressionism): A 19th-century art movement characterized by small, thin, visible brush strokes, open composition, emphasis on accurate depiction of light and its changing qualities.\n",
    "- [Neo-expressionism](https://en.wikipedia.org/wiki/Neo-expressionism) A style of late modernist or early-postmodern painting characterized by intense subjectivity and rough handling of materials.\n",
    "\n",
    "---\n",
    "*note: the model only classifies a painting as one of those four styles. A picture of your cat, or a stick figuring won't generate meaningful results*\n",
    "\n",
    "The model is surprisingly accurate given the limtited training data and overlapping styles. Often what seperates a movement is the year a painting was produced or the location of creation. For example, Cubism and Futurism often look similar, yet the model does a good job of seperating them into the categories determined by art historians and critics."
   ]
  },
  {
   "cell_type": "code",
   "execution_count": 3,
   "metadata": {},
   "outputs": [],
   "source": [
    "#hide_output\n",
    "learn = load_learner('export.pkl')\n",
    "btn_upload = widgets.FileUpload()\n",
    "out_pl = widgets.Output()\n",
    "lbl_pred = widgets.Label()"
   ]
  },
  {
   "cell_type": "code",
   "execution_count": 4,
   "metadata": {},
   "outputs": [],
   "source": [
    "def on_click_classifychange():\n",
    "    img = PILImage.create(btn_upload.data[-1])\n",
    "    out_pl.clear_output()\n",
    "    with out_pl: display(img.to_thumb(128, 128))\n",
    "    pred, pred_idx, probs = learn.predict(img)\n",
    "    lbl_pred.value = f'Prediction: {pred}; Probability: {probs[pred_idx]:.04f}'\n"
   ]
  },
  {
   "cell_type": "code",
   "execution_count": null,
   "metadata": {},
   "outputs": [],
   "source": [
    "btn_run = widgets.Button(description='Classify')"
   ]
  },
  {
   "cell_type": "code",
   "execution_count": 5,
   "metadata": {},
   "outputs": [
    {
     "data": {
      "application/vnd.jupyter.widget-view+json": {
       "model_id": "96d1ace6c2d84afa812e5f7abedeca53",
       "version_major": 2,
       "version_minor": 0
      },
      "text/plain": [
       "VBox(children=(Label(value='Upload Painting'), FileUpload(value={}, description='Upload'), Button(description=…"
      ]
     },
     "metadata": {},
     "output_type": "display_data"
    }
   ],
   "source": [
    "VBox([widgets.Label('Upload Painting'),\n",
    "     btn_upload, btn_run, out_pl, lbl_pred])"
   ]
  },
  {
   "cell_type": "code",
   "execution_count": null,
   "metadata": {},
   "outputs": [],
   "source": []
  }
 ],
 "metadata": {
  "kernelspec": {
   "display_name": "Python 3",
   "language": "python",
   "name": "python3"
  },
  "language_info": {
   "codemirror_mode": {
    "name": "ipython",
    "version": 3
   },
   "file_extension": ".py",
   "mimetype": "text/x-python",
   "name": "python",
   "nbconvert_exporter": "python",
   "pygments_lexer": "ipython3",
   "version": "3.7.6"
  }
 },
 "nbformat": 4,
 "nbformat_minor": 4
}
